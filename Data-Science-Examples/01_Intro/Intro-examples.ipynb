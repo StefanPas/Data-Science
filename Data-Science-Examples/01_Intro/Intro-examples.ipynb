{
 "cells": [
  {
   "cell_type": "code",
   "execution_count": 189,
   "metadata": {
    "collapsed": true
   },
   "outputs": [],
   "source": [
    "%matplotlib inline\n",
    "import matplotlib\n",
    "import numpy as np\n",
    "import pandas as pd\n",
    "import matplotlib.pyplot as plt\n",
    "from scipy import stats\n",
    "from scipy.stats import ttest_ind, ttest_rel"
   ]
  },
  {
   "cell_type": "markdown",
   "metadata": {},
   "source": [
    "# Example 1: Gas Consumption\n",
    "\n",
    "* In the 1980s data from 15 houses was gathered\n",
    "* Temperature difference (inside – outside), in degrees Celsius\n",
    "* Daily gas consumption, in kWh\n",
    "\n",
    "* How are these quantities related?"
   ]
  },
  {
   "cell_type": "code",
   "execution_count": 190,
   "metadata": {
    "collapsed": false
   },
   "outputs": [
    {
     "data": {
      "text/html": [
       "<div>\n",
       "<table border=\"1\" class=\"dataframe\">\n",
       "  <thead>\n",
       "    <tr style=\"text-align: right;\">\n",
       "      <th></th>\n",
       "      <th>temp_diff</th>\n",
       "      <th>power</th>\n",
       "    </tr>\n",
       "  </thead>\n",
       "  <tbody>\n",
       "    <tr>\n",
       "      <th>0</th>\n",
       "      <td>10.3</td>\n",
       "      <td>69.81</td>\n",
       "    </tr>\n",
       "    <tr>\n",
       "      <th>1</th>\n",
       "      <td>11.4</td>\n",
       "      <td>82.75</td>\n",
       "    </tr>\n",
       "    <tr>\n",
       "      <th>2</th>\n",
       "      <td>11.5</td>\n",
       "      <td>81.75</td>\n",
       "    </tr>\n",
       "    <tr>\n",
       "      <th>3</th>\n",
       "      <td>12.5</td>\n",
       "      <td>80.38</td>\n",
       "    </tr>\n",
       "    <tr>\n",
       "      <th>4</th>\n",
       "      <td>13.1</td>\n",
       "      <td>85.89</td>\n",
       "    </tr>\n",
       "    <tr>\n",
       "      <th>5</th>\n",
       "      <td>13.4</td>\n",
       "      <td>75.32</td>\n",
       "    </tr>\n",
       "    <tr>\n",
       "      <th>6</th>\n",
       "      <td>13.6</td>\n",
       "      <td>69.81</td>\n",
       "    </tr>\n",
       "    <tr>\n",
       "      <th>7</th>\n",
       "      <td>15.0</td>\n",
       "      <td>78.54</td>\n",
       "    </tr>\n",
       "    <tr>\n",
       "      <th>8</th>\n",
       "      <td>15.2</td>\n",
       "      <td>81.29</td>\n",
       "    </tr>\n",
       "    <tr>\n",
       "      <th>9</th>\n",
       "      <td>15.3</td>\n",
       "      <td>99.20</td>\n",
       "    </tr>\n",
       "    <tr>\n",
       "      <th>10</th>\n",
       "      <td>15.6</td>\n",
       "      <td>86.35</td>\n",
       "    </tr>\n",
       "    <tr>\n",
       "      <th>11</th>\n",
       "      <td>16.4</td>\n",
       "      <td>110.23</td>\n",
       "    </tr>\n",
       "    <tr>\n",
       "      <th>12</th>\n",
       "      <td>16.5</td>\n",
       "      <td>106.55</td>\n",
       "    </tr>\n",
       "    <tr>\n",
       "      <th>13</th>\n",
       "      <td>17.0</td>\n",
       "      <td>85.50</td>\n",
       "    </tr>\n",
       "    <tr>\n",
       "      <th>14</th>\n",
       "      <td>17.1</td>\n",
       "      <td>90.02</td>\n",
       "    </tr>\n",
       "  </tbody>\n",
       "</table>\n",
       "</div>"
      ],
      "text/plain": [
       "    temp_diff   power\n",
       "0        10.3   69.81\n",
       "1        11.4   82.75\n",
       "2        11.5   81.75\n",
       "3        12.5   80.38\n",
       "4        13.1   85.89\n",
       "5        13.4   75.32\n",
       "6        13.6   69.81\n",
       "7        15.0   78.54\n",
       "8        15.2   81.29\n",
       "9        15.3   99.20\n",
       "10       15.6   86.35\n",
       "11       16.4  110.23\n",
       "12       16.5  106.55\n",
       "13       17.0   85.50\n",
       "14       17.1   90.02"
      ]
     },
     "execution_count": 190,
     "metadata": {},
     "output_type": "execute_result"
    }
   ],
   "source": [
    "data = pd.read_table(\"files/temp_gas.csv\")\n",
    "data"
   ]
  },
  {
   "cell_type": "code",
   "execution_count": 191,
   "metadata": {
    "collapsed": false
   },
   "outputs": [
    {
     "data": {
      "image/png": "[encoded data removed]",
      "text/plain": [
       "<matplotlib.figure.Figure at 0x7fe93bf659e8>"
      ]
     },
     "metadata": {},
     "output_type": "display_data"
    }
   ],
   "source": [
    "matplotlib.rcParams[\"text.usetex\"] = False\n",
    "\n",
    "f, (ax1, ax2) = plt.subplots(1, 2, sharey=True, figsize = (11, 4))\n",
    "\n",
    "ax1.hist(data.temp_diff, bins = 5, normed = 1)\n",
    "ax1.set_xlabel(r\"$\\Delta T\\ [^{\\circ} \\mathrm{C}]$\")\n",
    "ax1.set_ylabel(r\"$\\mathrm{Frequency}$\")\n",
    "ax1.set_title('Temperature differences')\n",
    "\n",
    "ax2.hist(data.power, bins = 5, normed = 1)\n",
    "ax2.set_xlabel(r\"$C\\ [\\mathrm{kWh}]$\")\n",
    "ax2.set_ylabel(r\"$\\mathrm{Frequency}$\")\n",
    "ax2.set_title('Gas consumption')\n",
    "ax2.set_xlim([min(data.power)-1, max(data.power)+1])\n",
    "plt.show()"
   ]
  },
  {
   "cell_type": "markdown",
   "metadata": {},
   "source": [
    "Above histograms indicate no outliers on the graphics."
   ]
  },
  {
   "cell_type": "markdown",
   "metadata": {},
   "source": [
    "## Checking for a Correlation\n",
    "We will draw a scatter plot to find if any correlation exists between the \"temperature difference\" and \"gas consumption\"."
   ]
  },
  {
   "cell_type": "code",
   "execution_count": 192,
   "metadata": {
    "collapsed": false
   },
   "outputs": [
    {
     "data": {
      "image/png": "[encoded data removed]",
      "text/plain": [
       "<matplotlib.figure.Figure at 0x7fe93b89bbe0>"
      ]
     },
     "metadata": {},
     "output_type": "display_data"
    }
   ],
   "source": [
    "plt.scatter(data.temp_diff, data.power, color=\"br\")\n",
    "plt.xlabel(r\"$\\Delta T\\ [^{\\circ}\\mathrm{C}]$\")\n",
    "plt.ylabel(r\"$C\\ [\\mathrm{kWh}]$\")\n",
    "plt.show()"
   ]
  },
  {
   "cell_type": "markdown",
   "metadata": {},
   "source": [
    "It is visible the positive correlation between the variables. To check the linear dependence and the strength between variables will be used ** Pearson correlation coefficient **."
   ]
  },
  {
   "cell_type": "code",
   "execution_count": 193,
   "metadata": {
    "collapsed": false
   },
   "outputs": [
    {
     "name": "stdout",
     "output_type": "stream",
     "text": [
      "Pearson correlation coefficient:  0.6268\n"
     ]
    }
   ],
   "source": [
    "pearson = np.corrcoef(data.temp_diff, data.power)[1][0]\n",
    "print(\"Pearson correlation coefficient: \",round(pearson, 4))"
   ]
  },
  {
   "cell_type": "markdown",
   "metadata": {},
   "source": [
    "This value means that the gas consumption tends to increase when the temperature difference increases.\n",
    "\n",
    "Plotting the linear regression line and the equation Y = bX + a (slope * x + intercept)"
   ]
  },
  {
   "cell_type": "code",
   "execution_count": 194,
   "metadata": {
    "collapsed": false
   },
   "outputs": [
    {
     "data": {
      "image/png": "[encoded data removed]",
      "text/plain": [
       "<matplotlib.figure.Figure at 0x7fe93bbd57f0>"
      ]
     },
     "metadata": {},
     "output_type": "display_data"
    }
   ],
   "source": [
    "slope, intercept, r_value, p_value, std_err  = stats.linregress(data.temp_diff, data.power)\n",
    "plt.scatter(data.temp_diff, data.power, label = None)\n",
    "regr_label = r\"$y = \" + str(round(slope, 2)) + \"x + \" + str(round(intercept,2)) + \"$\"\n",
    "\n",
    "\n",
    "plt.plot(data.temp_diff, data.temp_diff * a + b, color = \"red\", linestyle = \"--\", label = regr_label)\n",
    "plt.xlabel(r\"$\\Delta T\\ [^{\\circ}\\mathrm{C}]$\")\n",
    "plt.ylabel(r\"$C\\ [\\mathrm{kWh}]$\")\n",
    "plt.legend()\n",
    "plt.show()\n"
   ]
  },
  {
   "cell_type": "code",
   "execution_count": 195,
   "metadata": {
    "collapsed": false
   },
   "outputs": [
    {
     "name": "stdout",
     "output_type": "stream",
     "text": [
      "Slope:  3.41\n",
      "Intercept:  36.89\n",
      "Rvalue:  0.63\n",
      "Pvalue:  0.01\n",
      "Standard error:  1.18\n"
     ]
    }
   ],
   "source": [
    "print(\"Slope: \", round(slope, 2))\n",
    "print(\"Intercept: \", round(intercept, 2))\n",
    "print(\"Rvalue: \", round(r_value, 2))\n",
    "print(\"Pvalue: \", round(p_value, 2))\n",
    "print(\"Standard error: \", round(std_err, 2))"
   ]
  },
  {
   "cell_type": "markdown",
   "metadata": {},
   "source": [
    "# Example 2. Cloud Seeding"
   ]
  },
  {
   "cell_type": "markdown",
   "metadata": {},
   "source": [
    "We have observing two different clouds in the data set. One is randomly seeded with silver nitrate. \"Seeds\" make droplets fall faster which causes small raindrops. We have also unseeded clouds.\n",
    "* Plot the data\n",
    "* Is there any pattern\n",
    "* Transformation\n",
    "Does seeding increase rainfall? Is the rainfall significantly larger?"
   ]
  },
  {
   "cell_type": "code",
   "execution_count": 196,
   "metadata": {
    "collapsed": false
   },
   "outputs": [
    {
     "data": {
      "text/html": [
       "<div>\n",
       "<table border=\"1\" class=\"dataframe\">\n",
       "  <thead>\n",
       "    <tr style=\"text-align: right;\">\n",
       "      <th></th>\n",
       "      <th>Unseeded</th>\n",
       "      <th>Seeded</th>\n",
       "    </tr>\n",
       "  </thead>\n",
       "  <tbody>\n",
       "    <tr>\n",
       "      <th>0</th>\n",
       "      <td>1202.6</td>\n",
       "      <td>2745.6</td>\n",
       "    </tr>\n",
       "    <tr>\n",
       "      <th>1</th>\n",
       "      <td>830.1</td>\n",
       "      <td>1697.8</td>\n",
       "    </tr>\n",
       "    <tr>\n",
       "      <th>2</th>\n",
       "      <td>372.4</td>\n",
       "      <td>1656.0</td>\n",
       "    </tr>\n",
       "    <tr>\n",
       "      <th>3</th>\n",
       "      <td>345.5</td>\n",
       "      <td>978.0</td>\n",
       "    </tr>\n",
       "    <tr>\n",
       "      <th>4</th>\n",
       "      <td>321.2</td>\n",
       "      <td>703.4</td>\n",
       "    </tr>\n",
       "    <tr>\n",
       "      <th>5</th>\n",
       "      <td>244.3</td>\n",
       "      <td>489.1</td>\n",
       "    </tr>\n",
       "    <tr>\n",
       "      <th>6</th>\n",
       "      <td>163.0</td>\n",
       "      <td>430.0</td>\n",
       "    </tr>\n",
       "    <tr>\n",
       "      <th>7</th>\n",
       "      <td>147.8</td>\n",
       "      <td>334.1</td>\n",
       "    </tr>\n",
       "    <tr>\n",
       "      <th>8</th>\n",
       "      <td>95.0</td>\n",
       "      <td>302.8</td>\n",
       "    </tr>\n",
       "    <tr>\n",
       "      <th>9</th>\n",
       "      <td>87.0</td>\n",
       "      <td>274.7</td>\n",
       "    </tr>\n",
       "    <tr>\n",
       "      <th>10</th>\n",
       "      <td>81.2</td>\n",
       "      <td>274.7</td>\n",
       "    </tr>\n",
       "    <tr>\n",
       "      <th>11</th>\n",
       "      <td>68.5</td>\n",
       "      <td>255.0</td>\n",
       "    </tr>\n",
       "    <tr>\n",
       "      <th>12</th>\n",
       "      <td>47.3</td>\n",
       "      <td>242.5</td>\n",
       "    </tr>\n",
       "    <tr>\n",
       "      <th>13</th>\n",
       "      <td>41.1</td>\n",
       "      <td>200.7</td>\n",
       "    </tr>\n",
       "    <tr>\n",
       "      <th>14</th>\n",
       "      <td>36.6</td>\n",
       "      <td>198.6</td>\n",
       "    </tr>\n",
       "    <tr>\n",
       "      <th>15</th>\n",
       "      <td>29.0</td>\n",
       "      <td>129.6</td>\n",
       "    </tr>\n",
       "    <tr>\n",
       "      <th>16</th>\n",
       "      <td>28.6</td>\n",
       "      <td>119.0</td>\n",
       "    </tr>\n",
       "    <tr>\n",
       "      <th>17</th>\n",
       "      <td>26.3</td>\n",
       "      <td>118.3</td>\n",
       "    </tr>\n",
       "    <tr>\n",
       "      <th>18</th>\n",
       "      <td>26.1</td>\n",
       "      <td>115.3</td>\n",
       "    </tr>\n",
       "    <tr>\n",
       "      <th>19</th>\n",
       "      <td>24.4</td>\n",
       "      <td>92.4</td>\n",
       "    </tr>\n",
       "    <tr>\n",
       "      <th>20</th>\n",
       "      <td>21.7</td>\n",
       "      <td>40.6</td>\n",
       "    </tr>\n",
       "    <tr>\n",
       "      <th>21</th>\n",
       "      <td>17.3</td>\n",
       "      <td>32.7</td>\n",
       "    </tr>\n",
       "    <tr>\n",
       "      <th>22</th>\n",
       "      <td>11.5</td>\n",
       "      <td>31.4</td>\n",
       "    </tr>\n",
       "    <tr>\n",
       "      <th>23</th>\n",
       "      <td>4.9</td>\n",
       "      <td>17.5</td>\n",
       "    </tr>\n",
       "    <tr>\n",
       "      <th>24</th>\n",
       "      <td>4.9</td>\n",
       "      <td>7.7</td>\n",
       "    </tr>\n",
       "    <tr>\n",
       "      <th>25</th>\n",
       "      <td>1.0</td>\n",
       "      <td>4.1</td>\n",
       "    </tr>\n",
       "  </tbody>\n",
       "</table>\n",
       "</div>"
      ],
      "text/plain": [
       "    Unseeded  Seeded\n",
       "0     1202.6  2745.6\n",
       "1      830.1  1697.8\n",
       "2      372.4  1656.0\n",
       "3      345.5   978.0\n",
       "4      321.2   703.4\n",
       "5      244.3   489.1\n",
       "6      163.0   430.0\n",
       "7      147.8   334.1\n",
       "8       95.0   302.8\n",
       "9       87.0   274.7\n",
       "10      81.2   274.7\n",
       "11      68.5   255.0\n",
       "12      47.3   242.5\n",
       "13      41.1   200.7\n",
       "14      36.6   198.6\n",
       "15      29.0   129.6\n",
       "16      28.6   119.0\n",
       "17      26.3   118.3\n",
       "18      26.1   115.3\n",
       "19      24.4    92.4\n",
       "20      21.7    40.6\n",
       "21      17.3    32.7\n",
       "22      11.5    31.4\n",
       "23       4.9    17.5\n",
       "24       4.9     7.7\n",
       "25       1.0     4.1"
      ]
     },
     "execution_count": 196,
     "metadata": {},
     "output_type": "execute_result"
    }
   ],
   "source": [
    "clouds_data = pd.read_csv(\"files/clouds.csv\", sep=\"\\t\")\n",
    "clouds_data"
   ]
  },
  {
   "cell_type": "markdown",
   "metadata": {},
   "source": [
    "The values seems to be ok."
   ]
  },
  {
   "cell_type": "markdown",
   "metadata": {},
   "source": [
    "We will draw histograms to see how this values are distributed."
   ]
  },
  {
   "cell_type": "code",
   "execution_count": 197,
   "metadata": {
    "collapsed": false
   },
   "outputs": [
    {
     "data": {
      "image/png": "[encoded data removed]",
      "text/plain": [
       "<matplotlib.figure.Figure at 0x7fe93bc185c0>"
      ]
     },
     "metadata": {},
     "output_type": "display_data"
    },
    {
     "data": {
      "image/png": "[encoded data removed]",
      "text/plain": [
       "<matplotlib.figure.Figure at 0x7fe93ba57518>"
      ]
     },
     "metadata": {},
     "output_type": "display_data"
    }
   ],
   "source": [
    "def plot_histogram (data, xlabel, ylabel, title, bin=20):\n",
    "    plt.hist(data, bins = 10)\n",
    "    plt.xlabel(xlabel)\n",
    "    plt.ylabel(ylabel)\n",
    "    plt.title(title)\n",
    "    plt.show()\n",
    "\n",
    "plot_histogram(clouds_data[\"Seeded\"], r\"$R\\ [\\mathrm{mm}]$\", \"$Number$\", \"$\\mathrm{Seeded\\ clouds}$\")\n",
    "plot_histogram(clouds_data[\"Unseeded\"], r\"$R\\ [\\mathrm{mm}]$\", \"$Number$\", \"$\\mathrm{Unseeded\\ clouds}$\")"
   ]
  },
  {
   "cell_type": "markdown",
   "metadata": {},
   "source": [
    "Look similar but have different range. We will plot them together and compare the difference. Below is used \n",
    "a formula for equally distributed bin boundaries: *bins=range(min(data), max(data) + binwidth, binwidth))*"
   ]
  },
  {
   "cell_type": "code",
   "execution_count": 198,
   "metadata": {
    "collapsed": false
   },
   "outputs": [
    {
     "data": {
      "image/png": "[encoded data removed]",
      "text/plain": [
       "<matplotlib.figure.Figure at 0x7fe93ba29e80>"
      ]
     },
     "metadata": {},
     "output_type": "display_data"
    }
   ],
   "source": [
    "binwidth = 150\n",
    "unseeded_bins = np.arange(min(clouds_data[\"Unseeded\"]), max(clouds_data[\"Unseeded\"]) + binwidth, binwidth)\n",
    "seeded_bins = np.arange(min(clouds_data[\"Seeded\"]), max(clouds_data[\"Seeded\"]) + binwidth, binwidth)\n",
    "\n",
    "plt.hist(clouds_data[\"Seeded\"], bins = seeded_bins, label = \"$\\mathrm{seeded}$\")\n",
    "plt.hist(clouds_data[\"Unseeded\"], bins = unseeded_bins, alpha = 0.5, label = \"$\\mathrm{unseeded}$\")\n",
    "plt.xlabel(\"$R\\ [\\mathrm{mm}]$\")\n",
    "plt.ylabel(\"$N$\")\n",
    "plt.legend()\n",
    "plt.show()"
   ]
  },
  {
   "cell_type": "markdown",
   "metadata": {},
   "source": [
    "The ranges of the distributions need to be normalized. In order to do this is used logarithmic transformation to better analyze and interpret the data. We will use natural logarithm - logarithm in base e. Below we create two additional columns for the respective log values."
   ]
  },
  {
   "cell_type": "code",
   "execution_count": 199,
   "metadata": {
    "collapsed": false
   },
   "outputs": [
    {
     "data": {
      "text/html": [
       "<div>\n",
       "<table border=\"1\" class=\"dataframe\">\n",
       "  <thead>\n",
       "    <tr style=\"text-align: right;\">\n",
       "      <th></th>\n",
       "      <th>Unseeded</th>\n",
       "      <th>Seeded</th>\n",
       "      <th>log_seeded</th>\n",
       "      <th>log_unseeded</th>\n",
       "    </tr>\n",
       "  </thead>\n",
       "  <tbody>\n",
       "    <tr>\n",
       "      <th>0</th>\n",
       "      <td>1202.6</td>\n",
       "      <td>2745.6</td>\n",
       "      <td>7.917755</td>\n",
       "      <td>7.092241</td>\n",
       "    </tr>\n",
       "    <tr>\n",
       "      <th>1</th>\n",
       "      <td>830.1</td>\n",
       "      <td>1697.8</td>\n",
       "      <td>7.437089</td>\n",
       "      <td>6.721546</td>\n",
       "    </tr>\n",
       "    <tr>\n",
       "      <th>2</th>\n",
       "      <td>372.4</td>\n",
       "      <td>1656.0</td>\n",
       "      <td>7.412160</td>\n",
       "      <td>5.919969</td>\n",
       "    </tr>\n",
       "    <tr>\n",
       "      <th>3</th>\n",
       "      <td>345.5</td>\n",
       "      <td>978.0</td>\n",
       "      <td>6.885510</td>\n",
       "      <td>5.844993</td>\n",
       "    </tr>\n",
       "    <tr>\n",
       "      <th>4</th>\n",
       "      <td>321.2</td>\n",
       "      <td>703.4</td>\n",
       "      <td>6.555926</td>\n",
       "      <td>5.772064</td>\n",
       "    </tr>\n",
       "  </tbody>\n",
       "</table>\n",
       "</div>"
      ],
      "text/plain": [
       "   Unseeded  Seeded  log_seeded  log_unseeded\n",
       "0    1202.6  2745.6    7.917755      7.092241\n",
       "1     830.1  1697.8    7.437089      6.721546\n",
       "2     372.4  1656.0    7.412160      5.919969\n",
       "3     345.5   978.0    6.885510      5.844993\n",
       "4     321.2   703.4    6.555926      5.772064"
      ]
     },
     "execution_count": 199,
     "metadata": {},
     "output_type": "execute_result"
    }
   ],
   "source": [
    "clouds_data['log_seeded'] = np.log(clouds_data[\"Seeded\"])\n",
    "clouds_data[\"log_unseeded\"]  = np.log(clouds_data[\"Unseeded\"])\n",
    "\n",
    "\n",
    "clouds_data.head()"
   ]
  },
  {
   "cell_type": "code",
   "execution_count": 200,
   "metadata": {
    "collapsed": false
   },
   "outputs": [
    {
     "data": {
      "image/png": "[encoded data removed]",
      "text/plain": [
       "<matplotlib.figure.Figure at 0x7fe93b8afeb8>"
      ]
     },
     "metadata": {},
     "output_type": "display_data"
    }
   ],
   "source": [
    "plt.boxplot([clouds_data['log_seeded'], clouds_data[\"log_unseeded\"]])\n",
    "plt.xticks([1, 2], [\"$\\mathrm{seeded}$\", \"$\\mathrm{unseeded}$\"])\n",
    "plt.ylabel(\"$\\ln(\\mathrm{R})$\", fontsize=10)\n",
    "plt.show()\n",
    "\n",
    "#plt.set_xlabel([\"$\\mathrm{unseeded}$\", \"$\\mathrm{seeded}$\"])"
   ]
  },
  {
   "cell_type": "markdown",
   "metadata": {},
   "source": [
    "It can be seen that the seeded clouds lead to more rain."
   ]
  },
  {
   "cell_type": "markdown",
   "metadata": {},
   "source": [
    "## Significant results and null hypothesis\n",
    "We will look for significant difference between both data sets. For this purpose we will examine \n",
    "the null hypothesis $H_0$ = \"Rainfall from seeded clouds is not larger\" and $\\alpha = 0.05$. We will \n",
    "\n",
    "In this case, a p-value ≤ 0.05 will indicate a strong evidence against the null hypothesis (rejecting the null hypothesis)."
   ]
  },
  {
   "cell_type": "code",
   "execution_count": 201,
   "metadata": {
    "collapsed": false
   },
   "outputs": [],
   "source": [
    "p_value = ttest_ind(clouds_data['log_seeded'], clouds_data['log_unseeded']).pvalue"
   ]
  },
  {
   "cell_type": "markdown",
   "metadata": {},
   "source": [
    "We have two-tailed test including both the positive (greater than) and the negative(less than) parts of the curve.\n",
    "Both regions are the same and we use one of these parts therefore we have to divide the p-value by 2."
   ]
  },
  {
   "cell_type": "code",
   "execution_count": 202,
   "metadata": {
    "collapsed": false
   },
   "outputs": [
    {
     "name": "stdout",
     "output_type": "stream",
     "text": [
      "p-value: 0.007041\n"
     ]
    }
   ],
   "source": [
    "half_part = float(p_value / 2)\n",
    "print(\"p-value: {0:.6f}\".format(half_part))"
   ]
  },
  {
   "cell_type": "markdown",
   "metadata": {},
   "source": [
    "Reject $H_0$: the p-value is less than $\\alpha$ => seeded clouds produce significantly more rain."
   ]
  }
 ],
 "metadata": {
  "anaconda-cloud": {},
  "kernelspec": {
   "display_name": "Python [conda root]",
   "language": "python",
   "name": "conda-root-py"
  },
  "language_info": {
   "codemirror_mode": {
    "name": "ipython",
    "version": 3
   },
   "file_extension": ".py",
   "mimetype": "text/x-python",
   "name": "python",
   "nbconvert_exporter": "python",
   "pygments_lexer": "ipython3",
   "version": "3.5.2"
  }
 },
 "nbformat": 4,
 "nbformat_minor": 1
}
